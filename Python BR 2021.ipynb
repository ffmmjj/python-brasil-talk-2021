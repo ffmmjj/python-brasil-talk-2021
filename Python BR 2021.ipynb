{
 "cells": [
  {
   "cell_type": "markdown",
   "id": "530e1e56",
   "metadata": {
    "slideshow": {
     "slide_type": "slide"
    }
   },
   "source": [
    "## <center>As árveres somos nozes</center>\n",
    "\n",
    "### <center>Manipulação de código via árvores sintáticas em Python</center>\n",
    "<br><br>\n",
    "<center>Python Brasil 2021</center>"
   ]
  },
  {
   "cell_type": "markdown",
   "id": "f87edfbf",
   "metadata": {
    "slideshow": {
     "slide_type": "slide"
    }
   },
   "source": [
    "## Quem sou eu\n",
    "<img src=\"./profile-pic.png\" style=\"float: right;\" />\n",
    "\n",
    "- Felipe Martins _(ele/dele)_\n",
    "- Cearense morando no Recife\n",
    "- Desenvolvedor senior, cerca de dez anos de experiência\n",
    "- Apaixonado por Extreme Programming e Developer Experience\n",
    "- [@ffmmjj_martins](https://twitter.com/ffmmjj_martins) 🌈🌈\n",
    "\n",
    "\n",
    "Me chamem para um café, eu sou facinho ☕"
   ]
  },
  {
   "cell_type": "markdown",
   "id": "6c6bc037",
   "metadata": {
    "slideshow": {
     "slide_type": "slide"
    }
   },
   "source": [
    "https://eng.uber.com/piranha/\n",
    "\n",
    "<img src=\"./piranha-blog.png\" />"
   ]
  },
  {
   "cell_type": "markdown",
   "id": "a7e5c829",
   "metadata": {
    "slideshow": {
     "slide_type": "subslide"
    }
   },
   "source": [
    "https://github.com/uber/piranha/blob/master/report.pdf\n",
    "\n",
    "<img src=\"./piranha-paper.png\" />"
   ]
  },
  {
   "cell_type": "markdown",
   "id": "af0b1a7a",
   "metadata": {
    "slideshow": {
     "slide_type": "subslide"
    }
   },
   "source": [
    "<img src=\"./piranha-workflow.png\" />\n",
    "\n",
    "1. Desenvolvedora publica código protegido por flag;\n",
    "2. A flag é detectada como inoperante depois de um certo tempo;\n",
    "3. Piranha cria um PR para a desenvolvedora removendo aquela flag;\n",
    "4. Desenvolvedora aprova/rejeita o PR;"
   ]
  },
  {
   "cell_type": "code",
   "execution_count": null,
   "id": "ceafd662",
   "metadata": {
    "slideshow": {
     "slide_type": "slide"
    }
   },
   "outputs": [],
   "source": [
    "#exemplo1.py\n",
    "MINHA_FLAG = True\n",
    "\n",
    "\n",
    "if MINHA_FLAG: # Checa estado da flag\n",
    "    print('Usa nova funcionalidade')\n",
    "else:\n",
    "    print('Usa funcionalidade antiga')\n",
    "\n",
    "print('Faz isso aqui sempre')"
   ]
  },
  {
   "cell_type": "markdown",
   "id": "cb26ffe9",
   "metadata": {
    "slideshow": {
     "slide_type": "fragment"
    }
   },
   "source": [
    "Seria transformada no código a seguir após remover a flag:"
   ]
  },
  {
   "cell_type": "code",
   "execution_count": null,
   "id": "22cf8dac",
   "metadata": {
    "slideshow": {
     "slide_type": "fragment"
    }
   },
   "outputs": [],
   "source": [
    "print('Usa nova funcionalidade')\n",
    "\n",
    "print('Faz isso aqui sempre')"
   ]
  },
  {
   "cell_type": "markdown",
   "id": "ff8ab51d",
   "metadata": {
    "slideshow": {
     "slide_type": "fragment"
    }
   },
   "source": [
    "**Como fazer esse tipo de otimização automaticamente?**"
   ]
  },
  {
   "cell_type": "code",
   "execution_count": null,
   "id": "46dded2e",
   "metadata": {
    "slideshow": {
     "slide_type": "subslide"
    }
   },
   "outputs": [],
   "source": [
    "codigo_simplificado = []\n",
    "\n",
    "with open('exemplo1.py', 'r') as fp:\n",
    "    encontrou_condicao_procurada = False\n",
    "    dentro_do_else_a_ignorar = False\n",
    "    \n",
    "    for linha in fp:\n",
    "        if linha.startswith('if MINHA_FLAG:'):\n",
    "            encontrou_condicao_procurada = True\n",
    "        elif encontrou_condicao_procurada and linha.startswith('else:'):\n",
    "            dentro_do_else_a_ignorar = True\n",
    "        elif dentro_do_else_a_ignorar and not linha.startswith('   '):\n",
    "            dentro_do_else_a_ignorar = False\n",
    "        elif not dentro_do_else_a_ignorar and not linha.startswith('MINHA_FLAG = True'):\n",
    "            codigo_simplificado.append(linha)\n",
    "\n",
    "print(''.join(codigo_simplificado))"
   ]
  },
  {
   "cell_type": "code",
   "execution_count": null,
   "id": "ee8bc04d",
   "metadata": {
    "slideshow": {
     "slide_type": "fragment"
    }
   },
   "outputs": [],
   "source": [
    "    print('Usa nova funcionalidade')\n",
    "print('Faz isso aqui sempre')"
   ]
  },
  {
   "cell_type": "markdown",
   "id": "147f1057",
   "metadata": {
    "slideshow": {
     "slide_type": "subslide"
    }
   },
   "source": [
    "Problemas:\n",
    "- Complexidade do código;\n",
    "- Não conserta indentações após a remoção de blocos de código;\n",
    "- Não funciona com blocos aninhados (um if dentro de outro if, por exemplo);\n",
    "- Precisa checar manualmente indentações para saber se estamos saindo de um bloco de código;\n",
    "- Não lida corretamente com a constante caso ela seja importada com um alias;\n",
    "- Etc..."
   ]
  },
  {
   "cell_type": "markdown",
   "id": "a175753e",
   "metadata": {
    "slideshow": {
     "slide_type": "fragment"
    }
   },
   "source": [
    "***Como podemos fazer isso de uma forma melhor?***"
   ]
  },
  {
   "cell_type": "markdown",
   "id": "962bde9f",
   "metadata": {
    "slideshow": {
     "slide_type": "slide"
    }
   },
   "source": [
    "### <center>Uma digressão: o processo de interpretação do CPython</center>"
   ]
  },
  {
   "cell_type": "markdown",
   "id": "7ea076b6",
   "metadata": {
    "slideshow": {
     "slide_type": "subslide"
    }
   },
   "source": [
    "- Implementação canônica do Python: https://github.com/python/cpython\n",
    "<img src=\"./cpython-github.png\" />"
   ]
  },
  {
   "cell_type": "markdown",
   "id": "f8e13492",
   "metadata": {
    "slideshow": {
     "slide_type": "fragment"
    }
   },
   "source": [
    "- Etapas de processamento de scripts Python:\n",
    "<img src=\"./ast-parsing.png\" style=\"width: 949px; height: 194px;\"/>"
   ]
  },
  {
   "cell_type": "markdown",
   "id": "0bf022cd",
   "metadata": {
    "slideshow": {
     "slide_type": "subslide"
    }
   },
   "source": [
    "<img src=\"./ast-parsing.png\" style=\"width: 949px; height: 194px;\"/>\n",
    "\n",
    "<img src=\"./cst-example1.png\" style=\"float: right;\" />\n",
    "- A primeira etapa (Lexer) extrai cada elemento da gramática do Python (as tokens) e as relações entre esses elementos para gerar uma Árvore Sintática Concreta (a CST);"
   ]
  },
  {
   "cell_type": "markdown",
   "id": "b527c8c0",
   "metadata": {
    "slideshow": {
     "slide_type": "subslide"
    }
   },
   "source": [
    "<img src=\"./ast-parsing.png\" style=\"width: 949px; height: 194px;\"/>\n",
    "\n",
    "<img src=\"./ast-example1.png\" style=\"float: right;\" />\n",
    "- Essa CST é então usada como entrada para a próxima etapa do Parser, que vai analisar a estrutura \"bruta\" do código Python representado por ela e construir uma Árvore Sintática Abstrata (a AST).\n",
    "\n",
    "**A principal diferença entre essas duas árvores é que a AST mantém apenas partes necessárias para a execução do código (ela descarta comentários, por exemplo) e representa o código usando abstrações com mais semântica do que a CST.**"
   ]
  },
  {
   "cell_type": "markdown",
   "id": "f0082f83",
   "metadata": {
    "slideshow": {
     "slide_type": "subslide"
    }
   },
   "source": [
    "Essas árvores sintáticas costumam ser usadas em compiladores e interpretadores para, entre outras coisas, analisar e realizar transformações ao código antes de convertê-lo em código executável, como por exemplo identificar e aplicar otimizações a ele."
   ]
  },
  {
   "cell_type": "markdown",
   "id": "0afbcfc2",
   "metadata": {
    "slideshow": {
     "slide_type": "fragment"
    }
   },
   "source": [
    "***E se convertêssemos a representação do código em nosso exemplo original para uma árvore sintática, realizássemos a transformação desejada nessa árvore e depois a convertêssemos de volta para código Python?***"
   ]
  },
  {
   "cell_type": "markdown",
   "id": "4cb14236",
   "metadata": {
    "slideshow": {
     "slide_type": "slide"
    }
   },
   "source": [
    "<img src=\"./ast-header.png\" />\n",
    "\n",
    "Por sorte, temos o módulo _ast_ na biblioteca-padrão do Python: https://docs.python.org/3/library/ast.html"
   ]
  },
  {
   "cell_type": "code",
   "execution_count": null,
   "id": "c1243d11",
   "metadata": {
    "slideshow": {
     "slide_type": "subslide"
    }
   },
   "outputs": [],
   "source": [
    "import ast\n",
    "import astor\n",
    "\n",
    "with open('exemplo1.py', 'r') as fp:\n",
    "    codigo = ''.join(fp.readlines())\n",
    "\n",
    "exemplo1_ast = ast.parse(codigo, 'exemplo1.py')\n",
    "print(astor.to_source(exemplo1_ast))"
   ]
  },
  {
   "cell_type": "code",
   "execution_count": null,
   "id": "a760a2fa",
   "metadata": {
    "slideshow": {
     "slide_type": "fragment"
    }
   },
   "outputs": [],
   "source": [
    "MINHA_FLAG = True\n",
    "if MINHA_FLAG:\n",
    "    print('Usa nova funcionalidade')\n",
    "else:\n",
    "    print('Usa funcionalidade antiga')\n",
    "print('Faz isso aqui sempre')"
   ]
  },
  {
   "cell_type": "markdown",
   "id": "6fc69a72",
   "metadata": {
    "slideshow": {
     "slide_type": "fragment"
    }
   },
   "source": [
    "**Comentários e linhas em branco do código original desaparecem** ☹️☹️"
   ]
  },
  {
   "cell_type": "markdown",
   "id": "ff7151e7",
   "metadata": {
    "slideshow": {
     "slide_type": "fragment"
    }
   },
   "source": [
    "Se quisermos manter elementos como comentários, espaçamentos e linhas em branco presentes no código original, precisaremos trabalhar com a árvore sintática ***concreta***."
   ]
  },
  {
   "cell_type": "markdown",
   "id": "6ae018a5",
   "metadata": {
    "slideshow": {
     "slide_type": "slide"
    }
   },
   "source": [
    "O módulo *ast* não trabalha com árvores concretas (apenas abstratas), logo não poderemos usá-la para trabalhar com CSTs.\n",
    "\n",
    "A própria documentação desse módulo, no entanto, recomenda o uso de uma biblioteca terceira chamada libCST para isso: https://github.com/Instagram/LibCST\n",
    "<img src=\"./libcst-github.png\" styles=\"align: right\" />"
   ]
  },
  {
   "cell_type": "markdown",
   "id": "156b4caa",
   "metadata": {
    "slideshow": {
     "slide_type": "fragment"
    }
   },
   "source": [
    "Essa biblioteca permite obter uma árvore sintática concreta que represente um script Python e oferece um framework chamado **Codemod** para modificação de código a partir dessa árvore."
   ]
  },
  {
   "cell_type": "markdown",
   "id": "60d7d676",
   "metadata": {
    "slideshow": {
     "slide_type": "fragment"
    }
   },
   "source": [
    "*Vamos ver como usar o Codemod da libCST para resolver nosso problema original de uma forma mais robusta.*"
   ]
  },
  {
   "cell_type": "markdown",
   "id": "29bc1d24",
   "metadata": {
    "slideshow": {
     "slide_type": "slide"
    }
   },
   "source": [
    "O Codemod permite o uso do padrão ***Visitor*** para percorrer a árvore sintática concreta e realizar alguma ação para cada tipo de nó encontrado.\n",
    "\n",
    "Ele faz isso permitindo que possamos definir métodos que são executados quando **encontramos** um certo tipo de nó e quando **abandonamos** um certo tipo de nó enquanto percorremos a árvore sintática."
   ]
  },
  {
   "cell_type": "markdown",
   "id": "e991f00c",
   "metadata": {
    "slideshow": {
     "slide_type": "fragment"
    }
   },
   "source": [
    "*Recomendo dar uma olhada nesse guia para relembrar os detalhes do padrão Visitor: https://refactoring.guru/pt-br/design-patterns/visitor*"
   ]
  },
  {
   "cell_type": "code",
   "execution_count": 25,
   "id": "e37f2c90",
   "metadata": {
    "slideshow": {
     "slide_type": "subslide"
    }
   },
   "outputs": [],
   "source": [
    "import libcst as cst\n",
    "from ast import literal_eval\n",
    "from libcst.codemod import CodemodContext, VisitorBasedCodemodCommand\n",
    "\n",
    "\n",
    "class IfDetectorCommand(VisitorBasedCodemodCommand):\n",
    "    DESCRIPTION: str = 'Detecta entrada e saída de blocos if'\n",
    "    \n",
    "    def visit_If(self, node):\n",
    "        print('Entrou no if:', node.test.value)\n",
    "        return True # True se os nós filhos precisam ser visitados\n",
    "    \n",
    "    def visit_Else(self, node):\n",
    "        print('Entrou no else')\n",
    "        return True\n",
    "    \n",
    "    def leave_If(self, original_node, updated_node):\n",
    "        print('Saiu do if:', updated_node.test.value)\n",
    "        return updated_node # Retorna o mesmo nó sem modificações\n",
    "    \n",
    "    def leave_Else(self, original_node, updated_node):\n",
    "        print('Saiu do else')\n",
    "        return updated_node"
   ]
  },
  {
   "cell_type": "markdown",
   "id": "55722b87",
   "metadata": {
    "slideshow": {
     "slide_type": "notes"
    }
   },
   "source": [
    "Vamos ilustrar o Codemod com um exemplo bem simples: um Visitor que apenas detecta se está visitando nós correspondendo a ifs e elses e imprime uma mensagem ao entrar e sair deles.\n",
    "Note que a terminologia da biblioteca chama esses visitors de _Comandos_."
   ]
  },
  {
   "cell_type": "code",
   "execution_count": null,
   "id": "d9b254c9",
   "metadata": {
    "scrolled": true,
    "slideshow": {
     "slide_type": "subslide"
    }
   },
   "outputs": [],
   "source": [
    "import unittest\n",
    "from libcst.codemod import CodemodTest\n",
    "\n",
    "class IfDetectorCommandTests(CodemodTest):\n",
    "    TRANSFORM = IfDetectorCommand\n",
    "    \n",
    "    def test_basic_scenario(self):\n",
    "        codigo = \"\"\"\\\n",
    "            # Redundante\n",
    "            CONSTANT_CONDITION = True\n",
    "            if CONSTANT_CONDITION:\n",
    "                print('is true')\n",
    "            else:\n",
    "                print('is false')\n",
    "            \n",
    "            print('continua')\n",
    "            \"\"\"\n",
    "        self.assertCodemod(codigo, codigo)\n",
    "\n",
    "unittest.main(argv=[''], verbosity=2, exit=False)"
   ]
  },
  {
   "cell_type": "markdown",
   "id": "971000fb",
   "metadata": {
    "slideshow": {
     "slide_type": "fragment"
    }
   },
   "source": [
    "Entrou no if: CONSTANT_CONDITION\n",
    "\n",
    "Entrou no else\n",
    "\n",
    "Saiu do else\n",
    "\n",
    "Saiu do if: CONSTANT_CONDITION"
   ]
  },
  {
   "cell_type": "markdown",
   "id": "35a0783e",
   "metadata": {
    "slideshow": {
     "slide_type": "notes"
    }
   },
   "source": [
    "Aqui podemos usar o CodemodTest, que é fornecido pela própria biblioteca para poder testar comandos.\n",
    "\n",
    "Basicamente, precisamos declarar na variável estática TRANSFORM qual é a classe que implementa nosso comando e, na asserção do teste, dizer qual é o código que será processado pelo comando e qual é o resultado esperado.\n",
    "\n",
    "Como nosso comando não altera a árvore sintática do código, nenhuma modificação é feita nele."
   ]
  },
  {
   "cell_type": "markdown",
   "id": "4ec3f07c",
   "metadata": {
    "slideshow": {
     "slide_type": "slide"
    }
   },
   "source": [
    "### <center>Como usar então esses métodos do Visitor para alterar nós da árvore sintática?</center>"
   ]
  },
  {
   "cell_type": "code",
   "execution_count": 69,
   "id": "64378256",
   "metadata": {
    "slideshow": {
     "slide_type": "subslide"
    }
   },
   "outputs": [],
   "source": [
    "import libcst as cst\n",
    "from ast import literal_eval\n",
    "from libcst.codemod import CodemodContext, VisitorBasedCodemodCommand\n",
    "\n",
    "\n",
    "class IfRemovalCommand(VisitorBasedCodemodCommand):\n",
    "    DESCRIPTION: str = 'Remove ifs que usem a constante CONSTANT_CONDITION'\n",
    "    \n",
    "    def __init(self):\n",
    "        self.dentro_do_if_a_ser_descartado = False\n",
    "    \n",
    "    def visit_If(self, node):\n",
    "        if node.test.value == 'CONSTANT_CONDITION':\n",
    "            self.dentro_do_if_a_ser_descartado = True\n",
    "    \n",
    "    def leave_If(self, original_node, updated_node):\n",
    "        if self.dentro_do_if_a_ser_descartado:\n",
    "            # Evita que outros ifs sejam afetados\n",
    "            self.dentro_do_if_a_ser_descartado = False\n",
    "            # Substitui o if pelo conteúdo do bloco dele\n",
    "            return cst.FlattenSentinel(updated_node.body.body)"
   ]
  },
  {
   "cell_type": "code",
   "execution_count": null,
   "id": "ad9642be",
   "metadata": {
    "slideshow": {
     "slide_type": "subslide"
    }
   },
   "outputs": [],
   "source": [
    "class IfRemovalCommandTests(CodemodTest):\n",
    "    TRANSFORM = IfRemovalCommand\n",
    "    \n",
    "    def test_basic_scenario(self):\n",
    "        codigo = \"\"\"\\\n",
    "            # Redundante\n",
    "            CONSTANT_CONDITION = True\n",
    "            if CONSTANT_CONDITION: \n",
    "                print('true')\n",
    "            else:\n",
    "                print('false')\n",
    "                \n",
    "            print('continua')\n",
    "            \"\"\"\n",
    "        resultado = \"\"\"\\\n",
    "            # Redundante\n",
    "            CONSTANT_CONDITION = True\n",
    "            print('true')\n",
    "            \n",
    "            print('continua')\n",
    "            \"\"\"\n",
    "        self.assertCodemod(codigo, resultado)\n",
    "\n",
    "unittest.main(argv=[''], verbosity=2, exit=False)"
   ]
  },
  {
   "cell_type": "markdown",
   "id": "425223aa",
   "metadata": {
    "slideshow": {
     "slide_type": "slide"
    }
   },
   "source": [
    "É possível usar seu Codemod customizado como um comando no terminal para aplicá-lo a um projeto inteiro:"
   ]
  },
  {
   "cell_type": "code",
   "execution_count": 83,
   "id": "e6194fb2",
   "metadata": {
    "slideshow": {
     "slide_type": "fragment"
    }
   },
   "outputs": [
    {
     "name": "stdout",
     "output_type": "stream",
     "text": [
      "Successfully wrote default config file to /home/felipe/Documents/dev/pythonbr2021/.libcst.codemod.yaml\r\n"
     ]
    }
   ],
   "source": [
    "# Inicializa o Codemod no diretório atual\n",
    "!python3 -m libcst.tool initialize ."
   ]
  },
  {
   "cell_type": "markdown",
   "id": "6b83efa2",
   "metadata": {
    "slideshow": {
     "slide_type": "subslide"
    }
   },
   "source": [
    "É necessário incluir no arquivo de configuração **.libcst.codemod.yaml** (criado no passo anterior) o nome do módulo onde está o nosso Codemod customizado:"
   ]
  },
  {
   "cell_type": "code",
   "execution_count": 84,
   "id": "9c9a36a7",
   "metadata": {
    "slideshow": {
     "slide_type": "fragment"
    }
   },
   "outputs": [
    {
     "name": "stdout",
     "output_type": "stream",
     "text": [
      "# String that LibCST should look for in code which indicates that the\r\n",
      "# module is generated code.\r\n",
      "generated_code_marker: '@generated'\r\n",
      "# Command line and arguments for invoking a code formatter. Anything\r\n",
      "# specified here must be capable of taking code via stdin and returning\r\n",
      "# formatted code via stdout.\r\n",
      "formatter: ['black', '-']\r\n",
      "# List of regex patterns which LibCST will evaluate against filenames to\r\n",
      "# determine if the module should be touched.\r\n",
      "blacklist_patterns: []\r\n",
      "# List of modules that contain codemods inside of them.\r\n",
      "modules:\r\n",
      "- 'meuscodemods'\r\n",
      "# Absolute or relative path of the repository root, used for providing\r\n",
      "# full-repo metadata. Relative paths should be specified with this file\r\n",
      "# location as the base.\r\n",
      "repo_root: '.'\r\n"
     ]
    }
   ],
   "source": [
    "!sed -i 's/libcst.codemod.commands/meuscodemods/g' .libcst.codemod.yaml\n",
    "!cat .libcst.codemod.yaml"
   ]
  },
  {
   "cell_type": "code",
   "execution_count": 85,
   "id": "9c5d7306",
   "metadata": {
    "slideshow": {
     "slide_type": "subslide"
    }
   },
   "outputs": [
    {
     "name": "stdout",
     "output_type": "stream",
     "text": [
      "# Redundante\r\n",
      "CONSTANT_CONDITION = True\r\n",
      "if CONSTANT_CONDITION: \r\n",
      "    print('true')\r\n",
      "else:\r\n",
      "    print('false')\r\n",
      "\r\n",
      "print('continua')"
     ]
    }
   ],
   "source": [
    "# Arquivo que vamos modificar com nosso Codemod\n",
    "!cat exemplos/codigo.py"
   ]
  },
  {
   "cell_type": "code",
   "execution_count": 11,
   "id": "377aa37c",
   "metadata": {
    "slideshow": {
     "slide_type": "subslide"
    }
   },
   "outputs": [
    {
     "name": "stdout",
     "output_type": "stream",
     "text": [
      "Calculating full-repo metadata...\n",
      "Executing codemod...\n",
      "\u001b[1mreformatted -\u001b[0m\n",
      "\u001b[1mAll done! ✨ 🍰 ✨\u001b[0m\n",
      "\u001b[1m1 file reformatted\u001b[0m.\n",
      "--- /home/felipe/Documents/dev/pythonbr2021/exemplos/codigo.py\n",
      "+++ /home/felipe/Documents/dev/pythonbr2021/exemplos/codigo.py\n",
      "@@ -1,8 +1,6 @@\n",
      " # Redundante\n",
      " CONSTANT_CONDITION = True\n",
      "-if CONSTANT_CONDITION: \n",
      "-    print('true')\n",
      "-else:\n",
      "-    print('false')\n",
      "+print(\"true\")\n",
      " \n",
      "-print('continua')\n",
      "+print(\"continua\")\n",
      "+\n",
      "\u001b[2KFinished codemodding 1 files!ng] estimated for 1 files to go...\n",
      " - Transformed 1 files successfully.\n",
      " - Skipped 0 files.\n",
      " - Failed to codemod 0 files.\n",
      " - 0 warnings were generated.\n"
     ]
    }
   ],
   "source": [
    "# A opção -u faz com que apenas um diff seja gerado na saída-padrão\n",
    "!python3 -m libcst.tool codemod -u -- codemod.IfRemovalCommand ./exemplos"
   ]
  },
  {
   "cell_type": "code",
   "execution_count": 14,
   "id": "0f92e6d5",
   "metadata": {
    "slideshow": {
     "slide_type": "subslide"
    }
   },
   "outputs": [
    {
     "name": "stdout",
     "output_type": "stream",
     "text": [
      "Calculating full-repo metadata...\n",
      "Executing codemod...\n",
      "\u001b[1mreformatted -\u001b[0m\n",
      "\u001b[1mAll done! ✨ 🍰 ✨\u001b[0m\n",
      "\u001b[1m1 file reformatted\u001b[0m.\n",
      "\u001b[2KFinished codemodding 1 files!ng] estimated for 1 files to go...\n",
      " - Transformed 1 files successfully.\n",
      " - Skipped 0 files.\n",
      " - Failed to codemod 0 files.\n",
      " - 0 warnings were generated.\n"
     ]
    }
   ],
   "source": [
    "# Sem a opção -u, as alterações são aplicadas diretamente aos arquivos afetados\n",
    "!python3 -m libcst.tool codemod -- codemod.IfRemovalCommand ./exemplos"
   ]
  },
  {
   "cell_type": "code",
   "execution_count": 15,
   "id": "5181ac26",
   "metadata": {
    "slideshow": {
     "slide_type": "fragment"
    }
   },
   "outputs": [
    {
     "name": "stdout",
     "output_type": "stream",
     "text": [
      "# Redundante\r\n",
      "CONSTANT_CONDITION = True\r\n",
      "print(\"true\")\r\n",
      "\r\n",
      "print(\"continua\")\r\n"
     ]
    }
   ],
   "source": [
    "!cat exemplos/codigo.py"
   ]
  },
  {
   "cell_type": "markdown",
   "id": "27ae923f",
   "metadata": {
    "slideshow": {
     "slide_type": "fragment"
    }
   },
   "source": [
    "Sucesso!"
   ]
  },
  {
   "cell_type": "markdown",
   "id": "eb34fcd8",
   "metadata": {
    "slideshow": {
     "slide_type": "slide"
    }
   },
   "source": [
    "## Referências\n",
    "\n",
    "- Documentação do libCST Codemod: https://libcst.readthedocs.io/en/latest/codemods.html\n",
    "- Livro \"CPython Internals\": https://realpython.com/products/cpython-internals-book/\n",
    "<img src=\"./cpython-internals-book.jpeg\" />\n",
    "- Padrão Visitor: https://refactoring.guru/pt-br/design-patterns/visitor"
   ]
  },
  {
   "cell_type": "markdown",
   "id": "156b0b81",
   "metadata": {
    "slideshow": {
     "slide_type": "slide"
    }
   },
   "source": [
    "## <center> Obrigado! </center>"
   ]
  }
 ],
 "metadata": {
  "celltoolbar": "Slideshow",
  "kernelspec": {
   "display_name": "Python 3 (ipykernel)",
   "language": "python",
   "name": "python3"
  },
  "language_info": {
   "codemirror_mode": {
    "name": "ipython",
    "version": 3
   },
   "file_extension": ".py",
   "mimetype": "text/x-python",
   "name": "python",
   "nbconvert_exporter": "python",
   "pygments_lexer": "ipython3",
   "version": "3.7.11"
  }
 },
 "nbformat": 4,
 "nbformat_minor": 5
}
